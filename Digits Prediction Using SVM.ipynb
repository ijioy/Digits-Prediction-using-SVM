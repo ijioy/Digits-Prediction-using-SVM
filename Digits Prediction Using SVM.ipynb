{
 "cells": [
  {
   "cell_type": "code",
   "execution_count": 17,
   "id": "060d4394-5b31-4f24-9dbc-08ec79f45c92",
   "metadata": {},
   "outputs": [],
   "source": [
    "import numpy as np\n",
    "from sklearn.model_selection import train_test_split\n",
    "from sklearn import datasets\n",
    "from sklearn.svm import LinearSVC\n",
    "from sklearn.datasets import load_digits"
   ]
  },
  {
   "cell_type": "code",
   "execution_count": 19,
   "id": "84bc13d8-87ff-4fe5-abe4-7c201035081a",
   "metadata": {},
   "outputs": [],
   "source": [
    "digit = datasets.load_digits()"
   ]
  },
  {
   "cell_type": "code",
   "execution_count": 21,
   "id": "4336545c-9bc0-43ac-9cc4-cfbc3ea613cb",
   "metadata": {},
   "outputs": [
    {
     "data": {
      "text/plain": [
       "array([[ 0.,  0.,  5., ...,  0.,  0.,  0.],\n",
       "       [ 0.,  0.,  0., ..., 10.,  0.,  0.],\n",
       "       [ 0.,  0.,  0., ..., 16.,  9.,  0.],\n",
       "       ...,\n",
       "       [ 0.,  0.,  1., ...,  6.,  0.,  0.],\n",
       "       [ 0.,  0.,  2., ..., 12.,  0.,  0.],\n",
       "       [ 0.,  0., 10., ..., 12.,  1.,  0.]])"
      ]
     },
     "execution_count": 21,
     "metadata": {},
     "output_type": "execute_result"
    }
   ],
   "source": [
    "digit.data"
   ]
  },
  {
   "cell_type": "code",
   "execution_count": 22,
   "id": "5e56c155-9538-4ece-b199-e68521ad2349",
   "metadata": {
    "tags": []
   },
   "outputs": [
    {
     "data": {
      "text/plain": [
       "array([0, 1, 2, ..., 8, 9, 8])"
      ]
     },
     "execution_count": 22,
     "metadata": {},
     "output_type": "execute_result"
    }
   ],
   "source": [
    "digit.target"
   ]
  },
  {
   "cell_type": "code",
   "execution_count": 23,
   "id": "74658ec4-981b-4163-ab61-eae6b71c31f1",
   "metadata": {},
   "outputs": [
    {
     "data": {
      "text/plain": [
       "((1797, 64), (1797,))"
      ]
     },
     "execution_count": 23,
     "metadata": {},
     "output_type": "execute_result"
    }
   ],
   "source": [
    "digit.data.shape, digit.target.shape"
   ]
  },
  {
   "cell_type": "code",
   "execution_count": 24,
   "id": "ec6491b6-3f02-4f9a-ae35-710993f718f6",
   "metadata": {},
   "outputs": [],
   "source": [
    "Atribut_Training, Atribut_Testing, Kelas_Training, Kelas_Testing = train_test_split(digit.data,\n",
    "                                                                                    digit.target,\n",
    "                                                                                    test_size=0.4,\n",
    "                                                                                    random_state=0)"
   ]
  },
  {
   "cell_type": "code",
   "execution_count": 25,
   "id": "057ca0db-75b2-40bc-a670-1f2c5ed0ee4f",
   "metadata": {},
   "outputs": [
    {
     "data": {
      "text/plain": [
       "((1078, 64), (719, 64))"
      ]
     },
     "execution_count": 25,
     "metadata": {},
     "output_type": "execute_result"
    }
   ],
   "source": [
    "Atribut_Training.shape, Atribut_Testing.shape"
   ]
  },
  {
   "cell_type": "code",
   "execution_count": 26,
   "id": "1d03ead1-085d-4757-8aef-06e8efe591bc",
   "metadata": {},
   "outputs": [
    {
     "data": {
      "text/plain": [
       "((1078,), (719, 64))"
      ]
     },
     "execution_count": 26,
     "metadata": {},
     "output_type": "execute_result"
    }
   ],
   "source": [
    "Kelas_Training.shape, Atribut_Testing.shape"
   ]
  },
  {
   "cell_type": "code",
   "execution_count": 27,
   "id": "98256032-644b-4539-8e13-a4401adc45d9",
   "metadata": {},
   "outputs": [
    {
     "name": "stderr",
     "output_type": "stream",
     "text": [
      "C:\\Users\\yoiji\\anaconda3\\lib\\site-packages\\sklearn\\svm\\_base.py:985: ConvergenceWarning: Liblinear failed to converge, increase the number of iterations.\n",
      "  warnings.warn(\"Liblinear failed to converge, increase \"\n"
     ]
    },
    {
     "data": {
      "text/plain": [
       "LinearSVC()"
      ]
     },
     "execution_count": 27,
     "metadata": {},
     "output_type": "execute_result"
    }
   ],
   "source": [
    "modelSVM = LinearSVC()\n",
    "modelSVM.fit(Atribut_Training,Kelas_Training)"
   ]
  },
  {
   "cell_type": "code",
   "execution_count": 28,
   "id": "336fc259-333a-4ab5-beb0-ef12d4db30b4",
   "metadata": {},
   "outputs": [
    {
     "data": {
      "text/plain": [
       "array([2, 8, 2, 6, 6, 7, 1, 9, 3, 5, 2, 8, 6, 6, 6, 6, 1, 0, 5, 8, 8, 7,\n",
       "       8, 4, 7, 5, 4, 9, 2, 9, 4, 7, 6, 8, 9, 4, 3, 8, 0, 1, 8, 6, 7, 7,\n",
       "       1, 0, 7, 6, 2, 1, 9, 6, 7, 9, 0, 0, 5, 1, 6, 3, 0, 2, 3, 4, 1, 9,\n",
       "       2, 6, 9, 1, 8, 3, 5, 1, 2, 1, 2, 2, 9, 7, 1, 3, 6, 0, 5, 5, 7, 5,\n",
       "       1, 2, 9, 9, 3, 1, 4, 7, 4, 8, 5, 9, 5, 5, 2, 6, 9, 0, 7, 1, 4, 4,\n",
       "       3, 4, 8, 9, 7, 8, 8, 2, 4, 5, 2, 5, 8, 4, 1, 7, 0, 6, 1, 5, 5, 9,\n",
       "       9, 5, 9, 9, 5, 7, 5, 6, 2, 8, 6, 9, 6, 1, 5, 1, 5, 9, 9, 1, 5, 3,\n",
       "       6, 1, 8, 9, 8, 7, 6, 7, 6, 5, 6, 0, 8, 8, 9, 3, 6, 1, 0, 4, 1, 6,\n",
       "       3, 8, 6, 7, 4, 1, 6, 3, 0, 3, 3, 3, 0, 7, 7, 5, 7, 8, 0, 7, 1, 9,\n",
       "       6, 4, 5, 0, 1, 4, 6, 4, 3, 3, 0, 9, 5, 3, 2, 1, 4, 2, 1, 6, 9, 9,\n",
       "       2, 4, 9, 3, 7, 6, 2, 3, 3, 1, 6, 9, 3, 6, 3, 2, 2, 0, 7, 6, 1, 1,\n",
       "       9, 7, 2, 7, 8, 5, 5, 7, 5, 3, 3, 7, 2, 7, 5, 5, 7, 0, 9, 1, 6, 1,\n",
       "       9, 7, 4, 3, 8, 0, 3, 6, 4, 6, 3, 2, 6, 8, 8, 8, 4, 6, 7, 5, 2, 4,\n",
       "       5, 3, 2, 4, 6, 9, 4, 5, 4, 3, 4, 6, 2, 9, 0, 6, 7, 2, 0, 9, 6, 0,\n",
       "       4, 2, 0, 7, 9, 8, 5, 4, 8, 2, 8, 4, 3, 7, 2, 6, 9, 1, 5, 1, 0, 8,\n",
       "       2, 9, 9, 5, 6, 2, 2, 7, 2, 1, 5, 1, 6, 4, 5, 0, 9, 4, 1, 1, 7, 0,\n",
       "       8, 9, 0, 5, 4, 3, 1, 8, 6, 5, 3, 4, 4, 4, 8, 8, 7, 0, 9, 6, 3, 5,\n",
       "       2, 3, 0, 8, 2, 3, 1, 3, 3, 0, 0, 4, 6, 0, 7, 7, 6, 2, 0, 4, 4, 2,\n",
       "       3, 7, 1, 9, 8, 6, 8, 5, 6, 2, 2, 3, 1, 7, 7, 8, 0, 9, 3, 2, 6, 5,\n",
       "       5, 9, 1, 3, 7, 1, 0, 7, 0, 4, 5, 0, 9, 3, 4, 3, 1, 8, 9, 8, 3, 6,\n",
       "       3, 1, 6, 2, 1, 7, 5, 5, 1, 9, 2, 8, 9, 7, 2, 8, 4, 3, 3, 2, 6, 2,\n",
       "       5, 9, 6, 5, 8, 2, 0, 7, 3, 0, 6, 8, 4, 1, 8, 6, 4, 3, 1, 2, 0, 4,\n",
       "       5, 8, 3, 9, 1, 8, 3, 4, 5, 0, 8, 5, 6, 3, 0, 6, 9, 1, 5, 1, 2, 1,\n",
       "       9, 8, 4, 9, 3, 0, 7, 8, 8, 1, 1, 3, 5, 5, 8, 4, 9, 7, 8, 4, 4, 9,\n",
       "       0, 1, 6, 9, 3, 6, 1, 7, 0, 6, 2, 9, 9, 3, 6, 1, 5, 1, 8, 9, 1, 4,\n",
       "       1, 7, 2, 8, 0, 6, 2, 1, 0, 6, 1, 6, 5, 2, 8, 6, 2, 1, 4, 6, 8, 2,\n",
       "       2, 7, 5, 9, 1, 9, 5, 0, 2, 5, 5, 6, 1, 2, 5, 7, 0, 5, 2, 1, 1, 2,\n",
       "       3, 3, 2, 1, 5, 5, 2, 7, 1, 4, 1, 1, 3, 5, 6, 7, 4, 4, 7, 3, 5, 7,\n",
       "       1, 5, 5, 3, 8, 5, 1, 3, 9, 1, 4, 6, 5, 1, 4, 1, 8, 3, 3, 1, 4, 8,\n",
       "       9, 2, 9, 4, 9, 4, 8, 0, 3, 3, 2, 0, 6, 6, 8, 6, 5, 9, 0, 3, 2, 5,\n",
       "       6, 9, 5, 4, 3, 3, 9, 9, 2, 7, 9, 9, 1, 1, 5, 9, 1, 0, 4, 1, 7, 4,\n",
       "       3, 8, 6, 5, 5, 5, 3, 5, 0, 0, 5, 0, 0, 3, 5, 2, 5, 4, 6, 5, 8, 5,\n",
       "       0, 9, 9, 2, 5, 0, 5, 0, 8, 7, 7, 5, 2, 7, 8])"
      ]
     },
     "execution_count": 28,
     "metadata": {},
     "output_type": "execute_result"
    }
   ],
   "source": [
    "modelSVM.predict(Atribut_Testing)"
   ]
  },
  {
   "cell_type": "code",
   "execution_count": 29,
   "id": "b82ae63f-f8c4-410d-8dfd-0381cb831b17",
   "metadata": {},
   "outputs": [
    {
     "data": {
      "text/plain": [
       "0.9290681502086231"
      ]
     },
     "execution_count": 29,
     "metadata": {},
     "output_type": "execute_result"
    }
   ],
   "source": [
    "modelSVM.score(Atribut_Testing,Kelas_Testing)"
   ]
  },
  {
   "cell_type": "markdown",
   "id": "23ae45a4-a54e-44ae-92f5-57463dbc4c08",
   "metadata": {},
   "source": [
    "# CROS VALIDATION #"
   ]
  },
  {
   "cell_type": "code",
   "execution_count": 31,
   "id": "f1ba4093-aade-44b6-920a-554e421922a2",
   "metadata": {},
   "outputs": [],
   "source": [
    "from sklearn.model_selection import cross_val_score"
   ]
  },
  {
   "cell_type": "code",
   "execution_count": 32,
   "id": "6576802a-6e44-4a5b-9eab-4a7cd779460d",
   "metadata": {
    "collapsed": true,
    "jupyter": {
     "outputs_hidden": true
    },
    "tags": []
   },
   "outputs": [
    {
     "name": "stderr",
     "output_type": "stream",
     "text": [
      "C:\\Users\\yoiji\\anaconda3\\lib\\site-packages\\sklearn\\svm\\_base.py:985: ConvergenceWarning: Liblinear failed to converge, increase the number of iterations.\n",
      "  warnings.warn(\"Liblinear failed to converge, increase \"\n",
      "C:\\Users\\yoiji\\anaconda3\\lib\\site-packages\\sklearn\\svm\\_base.py:985: ConvergenceWarning: Liblinear failed to converge, increase the number of iterations.\n",
      "  warnings.warn(\"Liblinear failed to converge, increase \"\n",
      "C:\\Users\\yoiji\\anaconda3\\lib\\site-packages\\sklearn\\svm\\_base.py:985: ConvergenceWarning: Liblinear failed to converge, increase the number of iterations.\n",
      "  warnings.warn(\"Liblinear failed to converge, increase \"\n",
      "C:\\Users\\yoiji\\anaconda3\\lib\\site-packages\\sklearn\\svm\\_base.py:985: ConvergenceWarning: Liblinear failed to converge, increase the number of iterations.\n",
      "  warnings.warn(\"Liblinear failed to converge, increase \"\n",
      "C:\\Users\\yoiji\\anaconda3\\lib\\site-packages\\sklearn\\svm\\_base.py:985: ConvergenceWarning: Liblinear failed to converge, increase the number of iterations.\n",
      "  warnings.warn(\"Liblinear failed to converge, increase \"\n",
      "C:\\Users\\yoiji\\anaconda3\\lib\\site-packages\\sklearn\\svm\\_base.py:985: ConvergenceWarning: Liblinear failed to converge, increase the number of iterations.\n",
      "  warnings.warn(\"Liblinear failed to converge, increase \"\n",
      "C:\\Users\\yoiji\\anaconda3\\lib\\site-packages\\sklearn\\svm\\_base.py:985: ConvergenceWarning: Liblinear failed to converge, increase the number of iterations.\n",
      "  warnings.warn(\"Liblinear failed to converge, increase \"\n",
      "C:\\Users\\yoiji\\anaconda3\\lib\\site-packages\\sklearn\\svm\\_base.py:985: ConvergenceWarning: Liblinear failed to converge, increase the number of iterations.\n",
      "  warnings.warn(\"Liblinear failed to converge, increase \"\n",
      "C:\\Users\\yoiji\\anaconda3\\lib\\site-packages\\sklearn\\svm\\_base.py:985: ConvergenceWarning: Liblinear failed to converge, increase the number of iterations.\n",
      "  warnings.warn(\"Liblinear failed to converge, increase \"\n",
      "C:\\Users\\yoiji\\anaconda3\\lib\\site-packages\\sklearn\\svm\\_base.py:985: ConvergenceWarning: Liblinear failed to converge, increase the number of iterations.\n",
      "  warnings.warn(\"Liblinear failed to converge, increase \"\n"
     ]
    }
   ],
   "source": [
    "akurasi_cross_val_score = cross_val_score(modelSVM, digit.data, digit.target, cv=10)"
   ]
  },
  {
   "cell_type": "code",
   "execution_count": 34,
   "id": "c0d93211-21fe-4fd1-8bac-9e01de90dedf",
   "metadata": {},
   "outputs": [
    {
     "data": {
      "text/plain": [
       "array([0.9       , 0.93333333, 0.86111111, 0.86111111, 0.91666667,\n",
       "       0.96111111, 0.97222222, 0.94972067, 0.84916201, 0.91620112])"
      ]
     },
     "execution_count": 34,
     "metadata": {},
     "output_type": "execute_result"
    }
   ],
   "source": [
    "akurasi_cross_val_score"
   ]
  },
  {
   "cell_type": "code",
   "execution_count": 36,
   "id": "7b0d79d6-dae7-47d3-b3b1-b740b21035f3",
   "metadata": {},
   "outputs": [
    {
     "data": {
      "text/plain": [
       "0.9120639354438238"
      ]
     },
     "execution_count": 36,
     "metadata": {},
     "output_type": "execute_result"
    }
   ],
   "source": [
    "ratarata_akurasi = akurasi_cross_val_score.mean()\n",
    "ratarata_akurasi"
   ]
  },
  {
   "cell_type": "code",
   "execution_count": null,
   "id": "b1d9c37a-c929-4a7c-81cc-f9ceec36a386",
   "metadata": {},
   "outputs": [],
   "source": []
  }
 ],
 "metadata": {
  "kernelspec": {
   "display_name": "Python 3",
   "language": "python",
   "name": "python3"
  },
  "language_info": {
   "codemirror_mode": {
    "name": "ipython",
    "version": 3
   },
   "file_extension": ".py",
   "mimetype": "text/x-python",
   "name": "python",
   "nbconvert_exporter": "python",
   "pygments_lexer": "ipython3",
   "version": "3.8.8"
  }
 },
 "nbformat": 4,
 "nbformat_minor": 5
}
